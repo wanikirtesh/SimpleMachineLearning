{
 "cells": [
  {
   "cell_type": "code",
   "execution_count": 195,
   "metadata": {},
   "outputs": [],
   "source": [
    "import pandas as pd\n",
    "from sklearn.tree import DecisionTreeClassifier\n",
    "from sklearn.model_selection import train_test_split\n",
    "from sklearn.metrics import accuracy_score\n",
    "from sklearn.externals import joblib\n",
    "\n",
    "music_data = pd.read_csv(\"iris.csv\")\n",
    "X = music_data.drop(columns=[\"Class\"])\n",
    "y = music_data[\"Class\"]\n",
    "\n",
    "X_train, X_test,y_train,y_test = train_test_split(X,y,test_size=0.2)\n",
    "\n",
    "model = DecisionTreeClassifier()\n",
    "model.fit(X_train,y_train)\n",
    "\n",
    "joblib.dump(model,\"flower_species_model.joblib\")\n",
    "\n",
    "prediction = model.predict(X_test)\n",
    "# score = accuracy_score(y_test,prediction)\n",
    "# score"
   ]
  },
  {
   "cell_type": "code",
   "execution_count": 196,
   "metadata": {},
   "outputs": [
    {
     "data": {
      "text/plain": [
       "array(['Iris-setosa'], dtype=object)"
      ]
     },
     "execution_count": 196,
     "metadata": {},
     "output_type": "execute_result"
    }
   ],
   "source": [
    "from sklearn.externals import joblib\n",
    "\n",
    "model = joblib.load(\"flower_species_model.joblib\")\n",
    "prediction = model.predict([[4.6,3.1,1.5,0.2]])\n",
    "prediction"
   ]
  },
  {
   "cell_type": "code",
   "execution_count": 197,
   "metadata": {},
   "outputs": [],
   "source": [
    "from sklearn import tree\n",
    "model = joblib.load(\"flower_species_model.joblib\")\n",
    "tree.export_graphviz(model,out_file=\"species_.dot\",\n",
    "                    feature_names = ['Sepal_length','Sepal_width','Petal_length','Petal_width'],\n",
    "                    class_names=sorted(y.unique()),\n",
    "                    label='all',\n",
    "                    rounded=True,\n",
    "                    filled=True)"
   ]
  }
 ],
 "metadata": {
  "kernelspec": {
   "display_name": "Python 3",
   "language": "python",
   "name": "python3"
  },
  "language_info": {
   "codemirror_mode": {
    "name": "ipython",
    "version": 3
   },
   "file_extension": ".py",
   "mimetype": "text/x-python",
   "name": "python",
   "nbconvert_exporter": "python",
   "pygments_lexer": "ipython3",
   "version": "3.7.4"
  }
 },
 "nbformat": 4,
 "nbformat_minor": 2
}
